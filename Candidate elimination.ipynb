{
 "cells": [
  {
   "cell_type": "code",
   "execution_count": 1,
   "id": "34c63565",
   "metadata": {},
   "outputs": [
    {
     "data": {
      "text/html": [
       "<div>\n",
       "<style scoped>\n",
       "    .dataframe tbody tr th:only-of-type {\n",
       "        vertical-align: middle;\n",
       "    }\n",
       "\n",
       "    .dataframe tbody tr th {\n",
       "        vertical-align: top;\n",
       "    }\n",
       "\n",
       "    .dataframe thead th {\n",
       "        text-align: right;\n",
       "    }\n",
       "</style>\n",
       "<table border=\"1\" class=\"dataframe\">\n",
       "  <thead>\n",
       "    <tr style=\"text-align: right;\">\n",
       "      <th></th>\n",
       "      <th>sky</th>\n",
       "      <th>temp</th>\n",
       "      <th>humidity</th>\n",
       "      <th>wind</th>\n",
       "      <th>water</th>\n",
       "      <th>forecast</th>\n",
       "      <th>enjoy_sport</th>\n",
       "    </tr>\n",
       "  </thead>\n",
       "  <tbody>\n",
       "    <tr>\n",
       "      <th>0</th>\n",
       "      <td>sunny</td>\n",
       "      <td>warm</td>\n",
       "      <td>normal</td>\n",
       "      <td>strong</td>\n",
       "      <td>warm</td>\n",
       "      <td>same</td>\n",
       "      <td>yes</td>\n",
       "    </tr>\n",
       "    <tr>\n",
       "      <th>1</th>\n",
       "      <td>sunny</td>\n",
       "      <td>warm</td>\n",
       "      <td>high</td>\n",
       "      <td>strong</td>\n",
       "      <td>warm</td>\n",
       "      <td>same</td>\n",
       "      <td>yes</td>\n",
       "    </tr>\n",
       "    <tr>\n",
       "      <th>2</th>\n",
       "      <td>rainy</td>\n",
       "      <td>cold</td>\n",
       "      <td>high</td>\n",
       "      <td>strong</td>\n",
       "      <td>warm</td>\n",
       "      <td>change</td>\n",
       "      <td>no</td>\n",
       "    </tr>\n",
       "    <tr>\n",
       "      <th>3</th>\n",
       "      <td>sunny</td>\n",
       "      <td>warm</td>\n",
       "      <td>high</td>\n",
       "      <td>strong</td>\n",
       "      <td>cool</td>\n",
       "      <td>change</td>\n",
       "      <td>yes</td>\n",
       "    </tr>\n",
       "  </tbody>\n",
       "</table>\n",
       "</div>"
      ],
      "text/plain": [
       "     sky  temp humidity    wind water forecast enjoy_sport\n",
       "0  sunny  warm   normal  strong  warm     same         yes\n",
       "1  sunny  warm     high  strong  warm     same         yes\n",
       "2  rainy  cold     high  strong  warm   change          no\n",
       "3  sunny  warm     high  strong  cool   change         yes"
      ]
     },
     "execution_count": 1,
     "metadata": {},
     "output_type": "execute_result"
    }
   ],
   "source": [
    "import numpy as np\n",
    "import pandas as pd\n",
    "df=pd.read_csv('data.csv')\n",
    "df.head()"
   ]
  },
  {
   "cell_type": "code",
   "execution_count": 2,
   "id": "0b2266fc",
   "metadata": {},
   "outputs": [
    {
     "name": "stdout",
     "output_type": "stream",
     "text": [
      "[['sunny' 'warm' 'normal' 'strong' 'warm' 'same' 'yes']\n",
      " ['sunny' 'warm' 'high' 'strong' 'warm' 'same' 'yes']\n",
      " ['rainy' 'cold' 'high' 'strong' 'warm' 'change' 'no']\n",
      " ['sunny' 'warm' 'high' 'strong' 'cool' 'change' 'yes']]\n"
     ]
    }
   ],
   "source": [
    "d=np.array(df)[:,:]\n",
    "print(d)"
   ]
  },
  {
   "cell_type": "code",
   "execution_count": 20,
   "id": "6df17925",
   "metadata": {},
   "outputs": [
    {
     "name": "stdout",
     "output_type": "stream",
     "text": [
      "the initial value of hypothesis \n",
      "the most specific hypotheis is S:  ['0', '0', '0', '0', '0', '0']\n",
      "The most general hypothesis is G:  ['?', '?', '?', '?', '?', '?']\n",
      "['sunny', 'warm', 'normal', 'strong', 'warm', 'same']\n",
      " for positive training example No: 1 the hypothesis is S1 ['sunny', 'warm', 'normal', 'strong', 'warm', 'same']\n",
      "for positive Training Example No: 1 the hypothesis is G1 ['?', '?', '?', '?', '?', '?']\n",
      " for positive training example No: 2 the hypothesis is S2 ['sunny', 'warm', '?', 'strong', 'warm', 'same']\n",
      "for positive Training Example No: 2 the hypothesis is G2 ['?', '?', '?', '?', '?', '?']\n",
      " for positive training example No: 3 the hypothesis is S3 ['sunny', 'warm', '?', 'strong', 'warm', 'same']\n",
      " for positive Training Example No: 3 the hypothesis is G3 [['sunny', '?', '?', '?', '?', '?'], ['?', 'warm', '?', '?', '?', '?'], ['?', '?', '?', '?', '?', 'same']]\n",
      " for positive training example No: 4 the hypothesis is S4 ['sunny', 'warm', '?', 'strong', '?', '?']\n",
      " for positive Training Example No: 4 the hypothesis is G4 [['sunny', '?', '?', '?', '?', '?'], ['?', 'warm', '?', '?', '?', '?']]\n"
     ]
    }
   ],
   "source": [
    "length=len(d[0])-1\n",
    "print(\"the initial value of hypothesis \")\n",
    "S=['0']*length\n",
    "G=['?']*length\n",
    "print(\"the most specific hypotheis is S: \",S)\n",
    "print(\"The most general hypothesis is G: \",G)\n",
    "\n",
    "for j in range(0,length):\n",
    "    S[j]=d[0][j]\n",
    "print(S)    \n",
    "\n",
    "#Candidate algo\n",
    "temp=[]\n",
    "for i in range(0,len(d)):\n",
    "    if d[i][length]=='yes':\n",
    "        for j in range(0,length):\n",
    "            if(d[i][j]!=S[j]):\n",
    "                S[j]='?'\n",
    "        for j in range(0,length):\n",
    "            for k in range(0,len(temp)):\n",
    "                if(temp[k][j]!='?' and temp[k][j]!=S[j]):\n",
    "                    del temp[k]\n",
    "    if d[i][length]=='no':\n",
    "        for j in range(0,length):\n",
    "            if(S[j]!=d[i][j] and S[j]!='?'):\n",
    "                G[j]=S[j]\n",
    "                temp.append(G)\n",
    "                G=['?']*length                \n",
    "    print(\" for positive training example No: {0} the hypothesis is S{0}\".format(i+1),S)\n",
    "    if(len(temp)==0):\n",
    "        print(\"for positive Training Example No: {0} the hypothesis is G{0}\".format(i+1),G)\n",
    "    else:\n",
    "        print(\" for positive Training Example No: {0} the hypothesis is G{0}\".format(i+1),temp)\n",
    "    "
   ]
  },
  {
   "cell_type": "code",
   "execution_count": 15,
   "id": "347a7da1",
   "metadata": {},
   "outputs": [
    {
     "name": "stdout",
     "output_type": "stream",
     "text": [
      "Our final specific hypothesios is S4  ['sunny', 'warm', '?', 'strong', '?', '?']\n",
      "Our final general hypotehsis is G4  [['sunny', '?', '?', '?', '?', '?'], ['?', 'warm', '?', '?', '?', '?']]\n"
     ]
    }
   ],
   "source": [
    "print(\"Our final specific hypothesios is S{0} \".format(i+1),S)\n",
    "print(\"Our final general hypotehsis is G{0} \".format(i+1),temp)"
   ]
  },
  {
   "cell_type": "code",
   "execution_count": null,
   "id": "04fa0a9e",
   "metadata": {},
   "outputs": [],
   "source": []
  }
 ],
 "metadata": {
  "kernelspec": {
   "display_name": "Python 3 (ipykernel)",
   "language": "python",
   "name": "python3"
  },
  "language_info": {
   "codemirror_mode": {
    "name": "ipython",
    "version": 3
   },
   "file_extension": ".py",
   "mimetype": "text/x-python",
   "name": "python",
   "nbconvert_exporter": "python",
   "pygments_lexer": "ipython3",
   "version": "3.9.12"
  }
 },
 "nbformat": 4,
 "nbformat_minor": 5
}
